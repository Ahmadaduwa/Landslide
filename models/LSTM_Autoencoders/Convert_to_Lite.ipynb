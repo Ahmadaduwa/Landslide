{
 "cells": [
  {
   "cell_type": "code",
   "execution_count": 23,
   "id": "643ecc60",
   "metadata": {},
   "outputs": [
    {
     "name": "stdout",
     "output_type": "stream",
     "text": [
      "Note: you may need to restart the kernel to use updated packages.\n"
     ]
    },
    {
     "name": "stderr",
     "output_type": "stream",
     "text": [
      "ERROR: Invalid requirement: '#': Expected package name at the start of dependency specifier\n",
      "    #\n",
      "    ^\n"
     ]
    },
    {
     "name": "stdout",
     "output_type": "stream",
     "text": [
      "Note: you may need to restart the kernel to use updated packages.\n"
     ]
    },
    {
     "name": "stderr",
     "output_type": "stream",
     "text": [
      "ERROR: Invalid requirement: '#': Expected package name at the start of dependency specifier\n",
      "    #\n",
      "    ^\n"
     ]
    },
    {
     "name": "stdout",
     "output_type": "stream",
     "text": [
      "Collecting tf2onnx\n",
      "  Downloading tf2onnx-1.16.1-py3-none-any.whl.metadata (1.3 kB)\n",
      "Requirement already satisfied: numpy>=1.14.1 in c:\\users\\ahmad\\appdata\\local\\programs\\python\\python39\\lib\\site-packages (from tf2onnx) (2.0.2)\n",
      "Requirement already satisfied: onnx>=1.4.1 in c:\\users\\ahmad\\appdata\\local\\programs\\python\\python39\\lib\\site-packages (from tf2onnx) (1.13.1)\n",
      "Requirement already satisfied: requests in c:\\users\\ahmad\\appdata\\local\\programs\\python\\python39\\lib\\site-packages (from tf2onnx) (2.32.4)\n",
      "Requirement already satisfied: six in c:\\users\\ahmad\\appdata\\roaming\\python\\python39\\site-packages (from tf2onnx) (1.17.0)\n",
      "Requirement already satisfied: flatbuffers>=1.12 in c:\\users\\ahmad\\appdata\\local\\programs\\python\\python39\\lib\\site-packages (from tf2onnx) (25.2.10)\n",
      "Requirement already satisfied: protobuf~=3.20 in c:\\users\\ahmad\\appdata\\local\\programs\\python\\python39\\lib\\site-packages (from tf2onnx) (3.20.3)\n",
      "Requirement already satisfied: typing-extensions>=3.6.2.1 in c:\\users\\ahmad\\appdata\\roaming\\python\\python39\\site-packages (from onnx>=1.4.1->tf2onnx) (4.14.0)\n",
      "Requirement already satisfied: charset_normalizer<4,>=2 in c:\\users\\ahmad\\appdata\\local\\programs\\python\\python39\\lib\\site-packages (from requests->tf2onnx) (3.4.2)\n",
      "Requirement already satisfied: idna<4,>=2.5 in c:\\users\\ahmad\\appdata\\local\\programs\\python\\python39\\lib\\site-packages (from requests->tf2onnx) (3.10)\n",
      "Requirement already satisfied: urllib3<3,>=1.21.1 in c:\\users\\ahmad\\appdata\\local\\programs\\python\\python39\\lib\\site-packages (from requests->tf2onnx) (2.5.0)\n",
      "Requirement already satisfied: certifi>=2017.4.17 in c:\\users\\ahmad\\appdata\\local\\programs\\python\\python39\\lib\\site-packages (from requests->tf2onnx) (2025.6.15)\n",
      "Downloading tf2onnx-1.16.1-py3-none-any.whl (455 kB)\n",
      "Installing collected packages: tf2onnx\n",
      "Successfully installed tf2onnx-1.16.1\n",
      "Note: you may need to restart the kernel to use updated packages.\n"
     ]
    }
   ],
   "source": [
    "%pip install tensorflow==2.9.0   # ให้ตรงกับ Keras model ของคุณ\n",
    "%pip install onnx==1.10.2         # อิงกับ ONNX runtime 1.9.1\n",
    "%pip install tf2onnx\n"
   ]
  },
  {
   "cell_type": "code",
   "execution_count": 24,
   "id": "35f15e5c",
   "metadata": {},
   "outputs": [
    {
     "name": "stdout",
     "output_type": "stream",
     "text": [
      "WARNING:tensorflow:From c:\\Users\\ahmad\\AppData\\Local\\Programs\\Python\\Python39\\lib\\site-packages\\tf2onnx\\tf_loader.py:72: The name tf.train.import_meta_graph is deprecated. Please use tf.compat.v1.train.import_meta_graph instead.\n",
      "\n"
     ]
    },
    {
     "name": "stderr",
     "output_type": "stream",
     "text": [
      "WARNING:tensorflow:From c:\\Users\\ahmad\\AppData\\Local\\Programs\\Python\\Python39\\lib\\site-packages\\tf2onnx\\tf_loader.py:72: The name tf.train.import_meta_graph is deprecated. Please use tf.compat.v1.train.import_meta_graph instead.\n",
      "\n",
      "ERROR:tf2onnx.tfonnx:rewriter <function rewrite_constant_fold at 0x000001983660EA60>: exception `np.cast` was removed in the NumPy 2.0 release. Use `np.asarray(arr, dtype=dtype)` instead.\n",
      "ERROR:tf2onnx.tfonnx:rewriter <function rewrite_constant_fold at 0x000001983660EA60>: exception `np.cast` was removed in the NumPy 2.0 release. Use `np.asarray(arr, dtype=dtype)` instead.\n",
      "ERROR:tf2onnx.tfonnx:rewriter <function rewrite_constant_fold at 0x000001983660EA60>: exception `np.cast` was removed in the NumPy 2.0 release. Use `np.asarray(arr, dtype=dtype)` instead.\n",
      "ERROR:tf2onnx.tfonnx:rewriter <function rewrite_constant_fold at 0x000001983660EA60>: exception `np.cast` was removed in the NumPy 2.0 release. Use `np.asarray(arr, dtype=dtype)` instead.\n",
      "ERROR:tf2onnx.tfonnx:rewriter <function rewrite_constant_fold at 0x000001983660EA60>: exception `np.cast` was removed in the NumPy 2.0 release. Use `np.asarray(arr, dtype=dtype)` instead.\n",
      "ERROR:tf2onnx.tfonnx:rewriter <function rewrite_constant_fold at 0x000001983660EA60>: exception `np.cast` was removed in the NumPy 2.0 release. Use `np.asarray(arr, dtype=dtype)` instead.\n",
      "ERROR:tf2onnx.tfonnx:rewriter <function rewrite_constant_fold at 0x000001983660EA60>: exception `np.cast` was removed in the NumPy 2.0 release. Use `np.asarray(arr, dtype=dtype)` instead.\n",
      "ERROR:tf2onnx.tfonnx:rewriter <function rewrite_constant_fold at 0x000001983660EA60>: exception `np.cast` was removed in the NumPy 2.0 release. Use `np.asarray(arr, dtype=dtype)` instead.\n",
      "ERROR:tf2onnx.tfonnx:rewriter <function rewrite_constant_fold at 0x000001983660EA60>: exception `np.cast` was removed in the NumPy 2.0 release. Use `np.asarray(arr, dtype=dtype)` instead.\n"
     ]
    },
    {
     "name": "stdout",
     "output_type": "stream",
     "text": [
      "ONNX model saved to: lstm_autoencoder_model_opset11.onnx\n"
     ]
    }
   ],
   "source": [
    "import tensorflow as tf\n",
    "import tf2onnx\n",
    "import onnx\n",
    "\n",
    "# โหลด Keras model\n",
    "model = tf.keras.models.load_model(\"lstm_autoencoder_model_fit.h5\", compile=False)\n",
    "\n",
    "# แปลงเป็น ONNX (บังคับ opset เวอร์ชันต่ำ)\n",
    "spec = (tf.TensorSpec(model.inputs[0].shape, tf.float32, name=\"input\"),)\n",
    "output_path = \"lstm_autoencoder_model_opset11.onnx\"\n",
    "\n",
    "# แปลง\n",
    "model_proto, _ = tf2onnx.convert.from_keras(\n",
    "    model, \n",
    "    input_signature=spec, \n",
    "    opset=11,           # Opset 11 รองรับโดย ONNX Runtime 1.9.1\n",
    "    output_path=output_path\n",
    ")\n",
    "\n",
    "print(\"ONNX model saved to:\", output_path)\n"
   ]
  },
  {
   "cell_type": "code",
   "execution_count": null,
   "id": "0cdba5e7",
   "metadata": {},
   "outputs": [],
   "source": []
  }
 ],
 "metadata": {
  "kernelspec": {
   "display_name": "Python 3",
   "language": "python",
   "name": "python3"
  },
  "language_info": {
   "codemirror_mode": {
    "name": "ipython",
    "version": 3
   },
   "file_extension": ".py",
   "mimetype": "text/x-python",
   "name": "python",
   "nbconvert_exporter": "python",
   "pygments_lexer": "ipython3",
   "version": "3.9.13"
  }
 },
 "nbformat": 4,
 "nbformat_minor": 5
}
