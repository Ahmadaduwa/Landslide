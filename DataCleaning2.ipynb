{
 "cells": [
  {
   "cell_type": "code",
   "execution_count": 62,
   "id": "379e8817",
   "metadata": {},
   "outputs": [
    {
     "name": "stderr",
     "output_type": "stream",
     "text": [
      "C:\\Users\\ahmad\\AppData\\Local\\Temp\\ipykernel_14156\\123620785.py:12: DtypeWarning: Columns (9,10,12,13) have mixed types. Specify dtype option on import or set low_memory=False.\n",
      "  df = pd.read_csv(csv_path)\n"
     ]
    }
   ],
   "source": [
    "import pandas as pd\n",
    "import numpy as np\n",
    "from sklearn.preprocessing import StandardScaler\n",
    "import matplotlib.pyplot as plt\n",
    "from scipy.stats import zscore\n",
    "\n",
    "csv_path = \"./data/Landslide3.csv\"\n",
    "device = \"101\"\n",
    "save_path = f\"./data/dev{device}_resample10S.csv\"\n",
    "#save_path = f\"data/devAll2_prepared.csv\"\n",
    "\n",
    "df = pd.read_csv(csv_path)\n",
    "\n",
    "for col in ['soil', 'rain', 'temp', 'humi', 'geo', 'lat', 'lng']:\n",
    "    df[col] = pd.to_numeric(df[col], errors='coerce')\n",
    "df\n",
    "\n",
    "#df = df[~df['timestamp'].str.contains(r'\\(ICT\\)', na=False)]\n",
    "#df['timestamp'] = df['timestamp'].str.replace(r'\\(ICT\\)', '', regex=True).str.strip()\n",
    "\n",
    "def clean_and_format_timestamp(val):\n",
    "    if pd.isnull(val):\n",
    "        return None\n",
    "    val = str(val).replace('(ICT)', '').strip()\n",
    "    try:\n",
    "        dt = pd.to_datetime(val)\n",
    "        return dt.isoformat()\n",
    "    except Exception:\n",
    "        return None  \n",
    "\n",
    "df['timestamp'] = df['timestamp'].apply(clean_and_format_timestamp)\n",
    "\n",
    "df.columns = df.columns.str.strip()\n",
    "df['timestamp'] = pd.to_datetime(df['timestamp'], errors='coerce')\n",
    "df = df.dropna(subset=['timestamp', 'geo'])  # ต้องมี timestamp และ geo\n",
    "\n",
    "\n",
    "df = df.drop(columns=['unixt', 'gateway time', 'old time', 'risk_level', 'confidence'], errors='ignore')\n",
    "df = df[df['devID'] != 218499049.0]\n",
    "df = df[(df['lat'] > 1.0) & (df['lat'] < 8000.0)]\n",
    "df = df[df['lng'] > 15.0]\n",
    "df = df[df['soil'] != 0.0]\n",
    "df = df[df['rain'] != -1.0]\n",
    "\n",
    "df = df[df['devID'] == int(device)]"
   ]
  },
  {
   "cell_type": "code",
   "execution_count": 63,
   "id": "eb8ee963",
   "metadata": {},
   "outputs": [
    {
     "name": "stdout",
     "output_type": "stream",
     "text": [
      "2025-07-20 16:30:01.590000\n",
      "2025-07-20 18:29:22.929000\n"
     ]
    }
   ],
   "source": [
    "start_date = \"2025-07-20 16:30:00\"\n",
    "end_date = \"2025-07-20 18:30:00\"\n",
    "\n",
    "df = df[(df['timestamp'] >= start_date) & (df['timestamp'] <= end_date)]\n",
    "print(df['timestamp'].min())\n",
    "print(df['timestamp'].max())"
   ]
  },
  {
   "cell_type": "code",
   "execution_count": 64,
   "id": "18766b47",
   "metadata": {},
   "outputs": [
    {
     "data": {
      "text/html": [
       "<div>\n",
       "<style scoped>\n",
       "    .dataframe tbody tr th:only-of-type {\n",
       "        vertical-align: middle;\n",
       "    }\n",
       "\n",
       "    .dataframe tbody tr th {\n",
       "        vertical-align: top;\n",
       "    }\n",
       "\n",
       "    .dataframe thead th {\n",
       "        text-align: right;\n",
       "    }\n",
       "</style>\n",
       "<table border=\"1\" class=\"dataframe\">\n",
       "  <thead>\n",
       "    <tr style=\"text-align: right;\">\n",
       "      <th></th>\n",
       "      <th>timestamp</th>\n",
       "      <th>devID</th>\n",
       "      <th>soil</th>\n",
       "      <th>rain</th>\n",
       "      <th>temp</th>\n",
       "      <th>humi</th>\n",
       "      <th>geo</th>\n",
       "      <th>lat</th>\n",
       "      <th>lng</th>\n",
       "    </tr>\n",
       "  </thead>\n",
       "  <tbody>\n",
       "    <tr>\n",
       "      <th>count</th>\n",
       "      <td>289</td>\n",
       "      <td>289.0</td>\n",
       "      <td>289.000000</td>\n",
       "      <td>289.0</td>\n",
       "      <td>289.000000</td>\n",
       "      <td>289.000000</td>\n",
       "      <td>289.000000</td>\n",
       "      <td>289.000000</td>\n",
       "      <td>289.000000</td>\n",
       "    </tr>\n",
       "    <tr>\n",
       "      <th>mean</th>\n",
       "      <td>2025-07-20 17:29:41.123065856</td>\n",
       "      <td>101.0</td>\n",
       "      <td>33.266782</td>\n",
       "      <td>0.0</td>\n",
       "      <td>26.528130</td>\n",
       "      <td>78.262385</td>\n",
       "      <td>12.508778</td>\n",
       "      <td>8.638012</td>\n",
       "      <td>99.898959</td>\n",
       "    </tr>\n",
       "    <tr>\n",
       "      <th>min</th>\n",
       "      <td>2025-07-20 16:30:01.590000</td>\n",
       "      <td>101.0</td>\n",
       "      <td>32.799999</td>\n",
       "      <td>0.0</td>\n",
       "      <td>25.571447</td>\n",
       "      <td>72.278778</td>\n",
       "      <td>0.534691</td>\n",
       "      <td>8.637995</td>\n",
       "      <td>99.898933</td>\n",
       "    </tr>\n",
       "    <tr>\n",
       "      <th>25%</th>\n",
       "      <td>2025-07-20 16:58:09.808999936</td>\n",
       "      <td>101.0</td>\n",
       "      <td>33.000000</td>\n",
       "      <td>0.0</td>\n",
       "      <td>26.158922</td>\n",
       "      <td>76.675285</td>\n",
       "      <td>8.717299</td>\n",
       "      <td>8.638003</td>\n",
       "      <td>99.898941</td>\n",
       "    </tr>\n",
       "    <tr>\n",
       "      <th>50%</th>\n",
       "      <td>2025-07-20 17:32:41.072000</td>\n",
       "      <td>101.0</td>\n",
       "      <td>33.099998</td>\n",
       "      <td>0.0</td>\n",
       "      <td>26.660946</td>\n",
       "      <td>77.661400</td>\n",
       "      <td>12.460935</td>\n",
       "      <td>8.638013</td>\n",
       "      <td>99.898964</td>\n",
       "    </tr>\n",
       "    <tr>\n",
       "      <th>75%</th>\n",
       "      <td>2025-07-20 17:58:39.852999936</td>\n",
       "      <td>101.0</td>\n",
       "      <td>33.500000</td>\n",
       "      <td>0.0</td>\n",
       "      <td>26.869228</td>\n",
       "      <td>79.896851</td>\n",
       "      <td>15.756296</td>\n",
       "      <td>8.638019</td>\n",
       "      <td>99.898972</td>\n",
       "    </tr>\n",
       "    <tr>\n",
       "      <th>max</th>\n",
       "      <td>2025-07-20 18:29:22.929000</td>\n",
       "      <td>101.0</td>\n",
       "      <td>34.099998</td>\n",
       "      <td>0.0</td>\n",
       "      <td>27.454033</td>\n",
       "      <td>83.240486</td>\n",
       "      <td>32.048397</td>\n",
       "      <td>8.638028</td>\n",
       "      <td>99.898979</td>\n",
       "    </tr>\n",
       "    <tr>\n",
       "      <th>std</th>\n",
       "      <td>NaN</td>\n",
       "      <td>0.0</td>\n",
       "      <td>0.304601</td>\n",
       "      <td>0.0</td>\n",
       "      <td>0.419896</td>\n",
       "      <td>2.082070</td>\n",
       "      <td>7.244321</td>\n",
       "      <td>0.000009</td>\n",
       "      <td>0.000013</td>\n",
       "    </tr>\n",
       "  </tbody>\n",
       "</table>\n",
       "</div>"
      ],
      "text/plain": [
       "                           timestamp  devID        soil   rain        temp  \\\n",
       "count                            289  289.0  289.000000  289.0  289.000000   \n",
       "mean   2025-07-20 17:29:41.123065856  101.0   33.266782    0.0   26.528130   \n",
       "min       2025-07-20 16:30:01.590000  101.0   32.799999    0.0   25.571447   \n",
       "25%    2025-07-20 16:58:09.808999936  101.0   33.000000    0.0   26.158922   \n",
       "50%       2025-07-20 17:32:41.072000  101.0   33.099998    0.0   26.660946   \n",
       "75%    2025-07-20 17:58:39.852999936  101.0   33.500000    0.0   26.869228   \n",
       "max       2025-07-20 18:29:22.929000  101.0   34.099998    0.0   27.454033   \n",
       "std                              NaN    0.0    0.304601    0.0    0.419896   \n",
       "\n",
       "             humi         geo         lat         lng  \n",
       "count  289.000000  289.000000  289.000000  289.000000  \n",
       "mean    78.262385   12.508778    8.638012   99.898959  \n",
       "min     72.278778    0.534691    8.637995   99.898933  \n",
       "25%     76.675285    8.717299    8.638003   99.898941  \n",
       "50%     77.661400   12.460935    8.638013   99.898964  \n",
       "75%     79.896851   15.756296    8.638019   99.898972  \n",
       "max     83.240486   32.048397    8.638028   99.898979  \n",
       "std      2.082070    7.244321    0.000009    0.000013  "
      ]
     },
     "execution_count": 64,
     "metadata": {},
     "output_type": "execute_result"
    }
   ],
   "source": [
    "df.describe()"
   ]
  },
  {
   "cell_type": "code",
   "execution_count": null,
   "id": "02cd5ed2",
   "metadata": {},
   "outputs": [
    {
     "name": "stderr",
     "output_type": "stream",
     "text": [
      "C:\\Users\\ahmad\\AppData\\Local\\Temp\\ipykernel_14156\\194007832.py:12: FutureWarning: 'S' is deprecated and will be removed in a future version, please use 's' instead.\n",
      "  df_rolling = df_resample_base[features].resample(window).agg(['mean', 'std', 'min', 'max'])\n"
     ]
    },
    {
     "data": {
      "text/html": [
       "<div>\n",
       "<style scoped>\n",
       "    .dataframe tbody tr th:only-of-type {\n",
       "        vertical-align: middle;\n",
       "    }\n",
       "\n",
       "    .dataframe tbody tr th {\n",
       "        vertical-align: top;\n",
       "    }\n",
       "\n",
       "    .dataframe thead th {\n",
       "        text-align: right;\n",
       "    }\n",
       "</style>\n",
       "<table border=\"1\" class=\"dataframe\">\n",
       "  <thead>\n",
       "    <tr style=\"text-align: right;\">\n",
       "      <th></th>\n",
       "      <th>timestamp</th>\n",
       "      <th>devID</th>\n",
       "      <th>soil_mean</th>\n",
       "      <th>rain_mean</th>\n",
       "      <th>temp_mean</th>\n",
       "      <th>humi_mean</th>\n",
       "      <th>geo_mean</th>\n",
       "    </tr>\n",
       "  </thead>\n",
       "  <tbody>\n",
       "  </tbody>\n",
       "</table>\n",
       "</div>"
      ],
      "text/plain": [
       "Empty DataFrame\n",
       "Columns: [timestamp, devID, soil_mean, rain_mean, temp_mean, humi_mean, geo_mean]\n",
       "Index: []"
      ]
     },
     "execution_count": 65,
     "metadata": {},
     "output_type": "execute_result"
    }
   ],
   "source": [
    "\n",
    "window = '1T'  # 10 วินาที (10 seconds) - Corrected comment\n",
    "features = ['soil', 'rain', 'temp', 'humi', 'geo', 'lat', 'lng']\n",
    "\n",
    "df = df.sort_values('timestamp').reset_index(drop=True)\n",
    "\n",
    "# Ensure timestamp is datetime and set as index for the base DataFrame used for resampling\n",
    "if 'timestamp' in df.columns and not pd.api.types.is_datetime64_any_dtype(df['timestamp']):\n",
    "    df['timestamp'] = pd.to_datetime(df['timestamp'])\n",
    "\n",
    "df_resample_base = df.set_index('timestamp')\n",
    "\n",
    "df_rolling = df_resample_base[features].resample(window).agg(['mean', 'std', 'min', 'max'])\n",
    "# --- END CORRECTED LINES ---\n",
    "\n",
    "df_rolling.columns = ['_'.join(col) for col in df_rolling.columns]\n",
    "df_rolling['devID'] = int(device)\n",
    "df_rolling = df_rolling.dropna()\n",
    "\n",
    "df_rolling = df_rolling.reset_index()\n",
    "df_rolling = df_rolling[['timestamp', 'devID', 'soil_mean', 'rain_mean', 'temp_mean', 'humi_mean', 'geo_mean']]\n",
    "df_rolling"
   ]
  },
  {
   "cell_type": "code",
   "execution_count": 66,
   "id": "351f2bfe",
   "metadata": {},
   "outputs": [
    {
     "name": "stdout",
     "output_type": "stream",
     "text": [
      "<class 'pandas.core.frame.DataFrame'>\n",
      "RangeIndex: 0 entries\n",
      "Data columns (total 7 columns):\n",
      " #   Column     Non-Null Count  Dtype         \n",
      "---  ------     --------------  -----         \n",
      " 0   timestamp  0 non-null      datetime64[ns]\n",
      " 1   devID      0 non-null      int64         \n",
      " 2   soil_mean  0 non-null      float64       \n",
      " 3   rain_mean  0 non-null      float64       \n",
      " 4   temp_mean  0 non-null      float64       \n",
      " 5   humi_mean  0 non-null      float64       \n",
      " 6   geo_mean   0 non-null      float64       \n",
      "dtypes: datetime64[ns](1), float64(5), int64(1)\n",
      "memory usage: 124.0 bytes\n"
     ]
    }
   ],
   "source": [
    "df_rolling.info()"
   ]
  },
  {
   "cell_type": "code",
   "execution_count": 67,
   "id": "15442c65",
   "metadata": {},
   "outputs": [
    {
     "name": "stdout",
     "output_type": "stream",
     "text": [
      "📌 คอลัมน์ที่มีค่า NaN:\n",
      "Series([], dtype: int64)\n"
     ]
    }
   ],
   "source": [
    "nan_counts = df_rolling.isna().sum()\n",
    "\n",
    "nan_columns = nan_counts[nan_counts > 0]\n",
    "\n",
    "print(\"📌 คอลัมน์ที่มีค่า NaN:\")\n",
    "print(nan_columns)"
   ]
  },
  {
   "cell_type": "code",
   "execution_count": 68,
   "id": "b10c0e04",
   "metadata": {},
   "outputs": [
    {
     "name": "stdout",
     "output_type": "stream",
     "text": [
      "✅ บันทึก เรียบร้อยแล้ว ./data/dev101_resample10S.csv\n"
     ]
    }
   ],
   "source": [
    "\n",
    "df_rolling.to_csv(f\"{save_path}\", index=False)\n",
    "\n",
    "print(\"✅ บันทึก เรียบร้อยแล้ว\", save_path)"
   ]
  },
  {
   "cell_type": "code",
   "execution_count": null,
   "id": "6e941443",
   "metadata": {},
   "outputs": [],
   "source": []
  }
 ],
 "metadata": {
  "kernelspec": {
   "display_name": "Python 3",
   "language": "python",
   "name": "python3"
  },
  "language_info": {
   "codemirror_mode": {
    "name": "ipython",
    "version": 3
   },
   "file_extension": ".py",
   "mimetype": "text/x-python",
   "name": "python",
   "nbconvert_exporter": "python",
   "pygments_lexer": "ipython3",
   "version": "3.9.13"
  }
 },
 "nbformat": 4,
 "nbformat_minor": 5
}
