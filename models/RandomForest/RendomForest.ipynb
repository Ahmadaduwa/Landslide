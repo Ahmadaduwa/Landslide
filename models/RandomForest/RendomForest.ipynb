{
 "cells": [
  {
   "cell_type": "code",
   "execution_count": 1,
   "id": "29ee1081",
   "metadata": {},
   "outputs": [],
   "source": [
    "import os\n",
    "import pandas as pd\n",
    "import numpy as np\n",
    "import matplotlib.pyplot as plt\n",
    "import seaborn as sns\n",
    "from datetime import datetime\n",
    "\n",
    "from sklearn.preprocessing import StandardScaler\n",
    "from sklearn.ensemble import RandomForestClassifier\n",
    "from sklearn.pipeline import Pipeline\n",
    "from sklearn.model_selection import train_test_split, StratifiedKFold, RandomizedSearchCV, cross_val_score\n",
    "from sklearn.metrics import (\n",
    "    accuracy_score, balanced_accuracy_score, precision_score, recall_score,\n",
    "    f1_score, classification_report, confusion_matrix, log_loss\n",
    ")\n",
    "from sklearn.inspection import permutation_importance\n",
    "\n",
    "import joblib\n",
    "import warnings\n",
    "warnings.filterwarnings(\"ignore\")"
   ]
  },
  {
   "cell_type": "code",
   "execution_count": 2,
   "id": "dafae015",
   "metadata": {},
   "outputs": [],
   "source": [
    "RANDOM_STATE = 42\n",
    "np.random.seed(RANDOM_STATE)\n",
    "\n",
    "# --- Load data ---\n",
    "df = pd.read_csv(\"../data/Landslide_dataSet1.csv\")"
   ]
  },
  {
   "cell_type": "code",
   "execution_count": 3,
   "id": "7f6ae5f9",
   "metadata": {},
   "outputs": [],
   "source": [
    "# --- Ensure expected columns exist (safe defaults) ---\n",
    "expected_cols = ['timestamp', 'devID', 'soil', 'rain', 'temp', 'humi', 'geo']\n",
    "for c in expected_cols:\n",
    "    if c not in df.columns:\n",
    "        df[c] = np.nan  # create if missing to avoid crash (but user should check source)"
   ]
  },
  {
   "cell_type": "code",
   "execution_count": 4,
   "id": "197571e8",
   "metadata": {},
   "outputs": [],
   "source": [
    "# --- Create rain_3h_sum robustly ---\n",
    "def compute_rain_3h_sum(df, time_col='timestamp', device_col='devID', rain_col='rain'):\n",
    "    df = df.copy()\n",
    "    # Try parse timestamps\n",
    "    try:\n",
    "        df[time_col] = pd.to_datetime(df[time_col])\n",
    "        # Apply per-device time-based rolling window (3 hours)\n",
    "        out = []\n",
    "        for dev, g in df.groupby(device_col):\n",
    "            g = g.sort_values(time_col).set_index(time_col)\n",
    "            # rolling with time window (3H)\n",
    "            rain_3h = g[rain_col].rolling('3H').sum()\n",
    "            g = g.assign(rain_3h_sum = rain_3h.values)\n",
    "            out.append(g.reset_index())\n",
    "        return pd.concat(out, ignore_index=True)\n",
    "    except Exception:\n",
    "        # Fallback: use rolling window of last 3 records per device\n",
    "        out = []\n",
    "        for dev, g in df.groupby(device_col):\n",
    "            g = g.sort_values(time_col).reset_index(drop=True)\n",
    "            g['rain_3h_sum'] = g[rain_col].rolling(window=3, min_periods=1).sum()\n",
    "            out.append(g)\n",
    "        return pd.concat(out, ignore_index=True)\n",
    "\n",
    "df = compute_rain_3h_sum(df, time_col='timestamp', device_col='devID', rain_col='rain')"
   ]
  },
  {
   "cell_type": "code",
   "execution_count": 5,
   "id": "345e743d",
   "metadata": {},
   "outputs": [],
   "source": [
    "# --- Labeling function (parameterized) ---\n",
    "def risk_score(row, soil_weights=(20,30,40), rain_weights=(5,10,20), geo_weights=(2,4,6)):\n",
    "    score = 0\n",
    "    # soil moisture score\n",
    "    if row['soil'] > soil_weights[2]:\n",
    "        score += 3\n",
    "    elif row['soil'] > soil_weights[1]:\n",
    "        score += 2\n",
    "    elif row['soil'] > soil_weights[0]:\n",
    "        score += 1\n",
    "    # rain in last 3 hours\n",
    "    if row.get('rain_3h_sum', np.nan) > rain_weights[2]:\n",
    "        score += 3\n",
    "    elif row.get('rain_3h_sum', np.nan) > rain_weights[1]:\n",
    "        score += 2\n",
    "    elif row.get('rain_3h_sum', np.nan) > rain_weights[0]:\n",
    "        score += 1\n",
    "    # geo movement score\n",
    "    if row['geo'] > geo_weights[2]:\n",
    "        score += 3\n",
    "    elif row['geo'] > geo_weights[1]:\n",
    "        score += 2\n",
    "    elif row['geo'] > geo_weights[0]:\n",
    "        score += 1\n",
    "    return score\n",
    "\n",
    "def classify_risk_from_score(score, thresholds=(5,8)):\n",
    "    # thresholds: [>=thresholds[1] -> Critical(2), >=thresholds[0] -> Warning(1), else Normal(0)]\n",
    "    if score >= thresholds[1]:\n",
    "        return 2\n",
    "    elif score >= thresholds[0]:\n",
    "        return 1\n",
    "    else:\n",
    "        return 0\n",
    "\n",
    "# Apply labeling\n",
    "df['risk_score_calc'] = df.apply(risk_score, axis=1)\n",
    "df['risk_level'] = df['risk_score_calc'].apply(lambda s: classify_risk_from_score(s, thresholds=(5,8)))\n"
   ]
  },
  {
   "cell_type": "code",
   "execution_count": 6,
   "id": "bf88b3e9",
   "metadata": {},
   "outputs": [],
   "source": [
    "# --- Features and target ---\n",
    "features = ['soil', 'rain', 'temp', 'humi', 'geo']\n",
    "X = df[features].copy()\n",
    "y = df['risk_level'].copy()"
   ]
  },
  {
   "cell_type": "code",
   "execution_count": 7,
   "id": "4737fa3b",
   "metadata": {},
   "outputs": [],
   "source": [
    "# --- Handle missing values: fill with median (per feature) ---\n",
    "X = X.fillna(X.median())"
   ]
  },
  {
   "cell_type": "code",
   "execution_count": 8,
   "id": "bad0fac6",
   "metadata": {},
   "outputs": [],
   "source": [
    "# --- Train / Test split (stratified) ---\n",
    "X_train, X_test, y_train, y_test = train_test_split(\n",
    "    X, y, test_size=0.2, stratify=y, random_state=RANDOM_STATE\n",
    ")\n"
   ]
  },
  {
   "cell_type": "code",
   "execution_count": 9,
   "id": "f02c6c58",
   "metadata": {},
   "outputs": [],
   "source": [
    "# --- Optionally use SMOTE if installed (helps class imbalance) ---\n",
    "use_smote = False\n",
    "try:\n",
    "    from imblearn.over_sampling import SMOTE\n",
    "    from imblearn.pipeline import Pipeline as ImbPipeline\n",
    "    use_smote = True\n",
    "except Exception:\n",
    "    use_smote = False"
   ]
  },
  {
   "cell_type": "code",
   "execution_count": 10,
   "id": "0d84736a",
   "metadata": {},
   "outputs": [],
   "source": [
    "# --- Build pipeline ---\n",
    "rf = RandomForestClassifier(random_state=RANDOM_STATE, n_jobs=-1)\n",
    "\n",
    "if use_smote:\n",
    "    pipeline = ImbPipeline([\n",
    "        ('scaler', StandardScaler()),\n",
    "        ('smote', SMOTE(random_state=RANDOM_STATE)),\n",
    "        ('clf', rf)\n",
    "    ])\n",
    "else:\n",
    "    pipeline = Pipeline([\n",
    "        ('scaler', StandardScaler()),\n",
    "        ('clf', rf)\n",
    "    ])"
   ]
  },
  {
   "cell_type": "code",
   "execution_count": 11,
   "id": "464f1f4d",
   "metadata": {},
   "outputs": [
    {
     "name": "stdout",
     "output_type": "stream",
     "text": [
      "Fitting 5 folds for each of 20 candidates, totalling 100 fits\n",
      "Best params: {'clf__n_estimators': 400, 'clf__min_samples_split': 5, 'clf__min_samples_leaf': 1, 'clf__max_depth': None, 'clf__class_weight': None}\n",
      "Best CV balanced_accuracy: 0.9977658932397867\n"
     ]
    }
   ],
   "source": [
    "# --- Hyperparameter tuning: Randomized Search (faster than grid) ---\n",
    "param_dist = {\n",
    "    'clf__n_estimators': [100, 200, 400, 800],\n",
    "    'clf__max_depth': [None, 6, 10, 20, 40],\n",
    "    'clf__min_samples_split': [2, 5, 10],\n",
    "    'clf__min_samples_leaf': [1, 2, 4],\n",
    "    'clf__class_weight': [None, 'balanced', 'balanced_subsample']\n",
    "}\n",
    "\n",
    "cv = StratifiedKFold(n_splits=5, shuffle=True, random_state=RANDOM_STATE)\n",
    "rs = RandomizedSearchCV(\n",
    "    pipeline,\n",
    "    param_distributions=param_dist,\n",
    "    n_iter=20,\n",
    "    scoring='balanced_accuracy',\n",
    "    n_jobs=-1,\n",
    "    cv=cv,\n",
    "    random_state=RANDOM_STATE,\n",
    "    verbose=1\n",
    ")\n",
    "\n",
    "rs.fit(X_train, y_train)\n",
    "\n",
    "best_model = rs.best_estimator_\n",
    "print(\"Best params:\", rs.best_params_)\n",
    "print(\"Best CV balanced_accuracy:\", rs.best_score_)"
   ]
  },
  {
   "cell_type": "code",
   "execution_count": 12,
   "id": "eda0960a",
   "metadata": {},
   "outputs": [
    {
     "name": "stdout",
     "output_type": "stream",
     "text": [
      "Log Loss: 0.0048\n",
      "Accuracy: 1.000  Balanced Accuracy: 0.994\n",
      "Precision: 1.000  Recall: 1.000  F1: 1.000\n",
      "Classification Report:\n",
      "               precision    recall  f1-score   support\n",
      "\n",
      "           0       1.00      1.00      1.00     46465\n",
      "           1       1.00      1.00      1.00     29416\n",
      "           2       0.99      0.98      0.99       642\n",
      "\n",
      "    accuracy                           1.00     76523\n",
      "   macro avg       1.00      0.99      1.00     76523\n",
      "weighted avg       1.00      1.00      1.00     76523\n",
      "\n"
     ]
    }
   ],
   "source": [
    "\n",
    "# --- Evaluate on test set ---\n",
    "y_pred = best_model.predict(X_test)\n",
    "if hasattr(best_model, \"predict_proba\"):\n",
    "    y_proba = best_model.predict_proba(X_test)\n",
    "else:\n",
    "    # fallback: one-hot encode predictions as degenerate probabilities\n",
    "    y_proba = np.eye(len(np.unique(y)))[y_pred]\n",
    "\n",
    "loss = log_loss(y_test, y_proba, labels=[0,1,2])\n",
    "accuracy = accuracy_score(y_test, y_pred)\n",
    "balanced_acc = balanced_accuracy_score(y_test, y_pred)\n",
    "precision = precision_score(y_test, y_pred, average='weighted', zero_division=0)\n",
    "recall = recall_score(y_test, y_pred, average='weighted', zero_division=0)\n",
    "f1 = f1_score(y_test, y_pred, average='weighted', zero_division=0)\n",
    "\n",
    "print(f\"Log Loss: {loss:.4f}\")\n",
    "print(f\"Accuracy: {accuracy:.3f}  Balanced Accuracy: {balanced_acc:.3f}\")\n",
    "print(f\"Precision: {precision:.3f}  Recall: {recall:.3f}  F1: {f1:.3f}\")\n",
    "print(\"Classification Report:\\n\", classification_report(y_test, y_pred, zero_division=0))"
   ]
  },
  {
   "cell_type": "code",
   "execution_count": 13,
   "id": "7aa01de1",
   "metadata": {},
   "outputs": [
    {
     "data": {
      "image/png": "[encoded data removed]",
      "text/plain": [
       "<Figure size 1200x500 with 4 Axes>"
      ]
     },
     "metadata": {},
     "output_type": "display_data"
    }
   ],
   "source": [
    "# --- Confusion matrix (counts + normalized) ---\n",
    "cm = confusion_matrix(y_test, y_pred, labels=[0,1,2])\n",
    "cm_norm = cm.astype('float') / cm.sum(axis=1)[:, np.newaxis]\n",
    "\n",
    "plt.figure(figsize=(12,5))\n",
    "plt.subplot(1,2,1)\n",
    "sns.heatmap(cm, annot=True, fmt='d', cmap='YlGnBu',\n",
    "            xticklabels=[\"Normal\",\"Warning\",\"Critical\"], yticklabels=[\"Normal\",\"Warning\",\"Critical\"])\n",
    "plt.title(\"Confusion Matrix (counts)\")\n",
    "plt.xlabel(\"Predicted\"); plt.ylabel(\"Actual\")\n",
    "\n",
    "plt.subplot(1,2,2)\n",
    "sns.heatmap(np.round(cm_norm,2), annot=True, fmt='.2f', cmap='YlGnBu',\n",
    "            xticklabels=[\"Normal\",\"Warning\",\"Critical\"], yticklabels=[\"Normal\",\"Warning\",\"Critical\"])\n",
    "plt.title(\"Confusion Matrix (normalized by true)\")\n",
    "plt.xlabel(\"Predicted\"); plt.ylabel(\"Actual\")\n",
    "plt.tight_layout()\n",
    "plt.show()"
   ]
  },
  {
   "cell_type": "code",
   "execution_count": 14,
   "id": "7a6aa77d",
   "metadata": {},
   "outputs": [
    {
     "name": "stdout",
     "output_type": "stream",
     "text": [
      "Cross-val accuracies (accuracy): [1. 1. 1. 1. 1.]\n",
      "Mean accuracy from CV: 1.0\n"
     ]
    }
   ],
   "source": [
    "# --- Cross-validated accuracy on full dataset for reference ---\n",
    "cv_scores = cross_val_score(best_model, X, y, cv=cv, scoring='accuracy', n_jobs=-1)\n",
    "print(\"Cross-val accuracies (accuracy):\", np.round(cv_scores,3))\n",
    "print(\"Mean accuracy from CV:\", np.round(cv_scores.mean(),3))\n"
   ]
  },
  {
   "cell_type": "code",
   "execution_count": 15,
   "id": "c3decb62",
   "metadata": {},
   "outputs": [
    {
     "name": "stdout",
     "output_type": "stream",
     "text": [
      "Feature importances:\n",
      "   feature  importance\n",
      "4     geo    0.614269\n",
      "0    soil    0.330605\n",
      "1    rain    0.041274\n",
      "3    humi    0.006994\n",
      "2    temp    0.006858\n"
     ]
    }
   ],
   "source": [
    "# --- Feature importances (from RF) ---\n",
    "# If pipeline, classifier is at step 'clf'\n",
    "clf_step = best_model.named_steps['clf'] if hasattr(best_model, 'named_steps') else best_model\n",
    "feat_importances = clf_step.feature_importances_\n",
    "feat_df = pd.DataFrame({'feature': features, 'importance': feat_importances}).sort_values('importance', ascending=False)\n",
    "print(\"Feature importances:\\n\", feat_df)"
   ]
  },
  {
   "cell_type": "code",
   "execution_count": 16,
   "id": "8601a681",
   "metadata": {},
   "outputs": [
    {
     "name": "stdout",
     "output_type": "stream",
     "text": [
      "Permutation importances:\n",
      "   feature  perm_importance_mean  perm_importance_std\n",
      "4     geo              0.368895             0.001335\n",
      "0    soil              0.205672             0.000783\n",
      "1    rain              0.024540             0.000161\n",
      "3    humi              0.000157             0.000027\n",
      "2    temp              0.000118             0.000030\n"
     ]
    }
   ],
   "source": [
    "# Permutation importance (robust)\n",
    "perm = permutation_importance(best_model, X_test, y_test, n_repeats=20, random_state=RANDOM_STATE, n_jobs=-1)\n",
    "perm_df = pd.DataFrame({'feature': features, 'perm_importance_mean': perm.importances_mean, 'perm_importance_std': perm.importances_std})\n",
    "perm_df = perm_df.sort_values('perm_importance_mean', ascending=False)\n",
    "print(\"Permutation importances:\\n\", perm_df)"
   ]
  },
  {
   "cell_type": "code",
   "execution_count": 17,
   "id": "50596afb",
   "metadata": {},
   "outputs": [
    {
     "name": "stdout",
     "output_type": "stream",
     "text": [
      "Saved best model to model/landsilde_rf_pipeline_best.joblib\n"
     ]
    }
   ],
   "source": [
    "# --- Save model ---\n",
    "os.makedirs(\"model\", exist_ok=True)\n",
    "joblib.dump(best_model, \"model/landsilde_rf_pipeline_best.joblib\")\n",
    "print(\"Saved best model to model/landsilde_rf_pipeline_best.joblib\")"
   ]
  }
 ],
 "metadata": {
  "kernelspec": {
   "display_name": "Python isolation (venv)",
   "language": "python",
   "name": "venv"
  },
  "language_info": {
   "codemirror_mode": {
    "name": "ipython",
    "version": 3
   },
   "file_extension": ".py",
   "mimetype": "text/x-python",
   "name": "python",
   "nbconvert_exporter": "python",
   "pygments_lexer": "ipython3",
   "version": "3.11.9"
  }
 },
 "nbformat": 4,
 "nbformat_minor": 5
}
